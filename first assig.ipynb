{
 "cells": [
  {
   "cell_type": "code",
   "execution_count": 8,
   "id": "e7032b25-7b9f-486c-a10b-0c71fe0b0cd8",
   "metadata": {},
   "outputs": [
    {
     "name": "stdout",
     "output_type": "stream",
     "text": [
      "5.0\n"
     ]
    }
   ],
   "source": [
    "#Convert and integer to a floating point number.\n",
    "\n",
    "integer = 5\n",
    "floating_number = float(integer)\n",
    "print(floating_number)"
   ]
  },
  {
   "cell_type": "code",
   "execution_count": 9,
   "id": "e109ddef-1beb-4647-842d-596550c4c4b1",
   "metadata": {},
   "outputs": [
    {
     "name": "stdout",
     "output_type": "stream",
     "text": [
      "3\n"
     ]
    }
   ],
   "source": [
    "#Convert a float to a integer.\n",
    "\n",
    "float_number = 3.14\n",
    "integer = int(float_number)\n",
    "print(integer)\n"
   ]
  },
  {
   "cell_type": "code",
   "execution_count": 10,
   "id": "a60a37e8-a1f9-4bc7-9a89-35b425fd56d4",
   "metadata": {},
   "outputs": [
    {
     "name": "stdout",
     "output_type": "stream",
     "text": [
      "42\n"
     ]
    }
   ],
   "source": [
    "#Convert a integer to a string\n",
    "\n",
    "integer= 42\n",
    "string_num = str(integer)\n",
    "print(string_num)"
   ]
  },
  {
   "cell_type": "code",
   "execution_count": 11,
   "id": "dd8c3b7f-c618-4f55-90cb-dcdd3cc947ee",
   "metadata": {},
   "outputs": [
    {
     "name": "stdout",
     "output_type": "stream",
     "text": [
      "(1, 2, 3, 4, 5)\n"
     ]
    }
   ],
   "source": [
    "#Covert a list to a tuple.\n",
    "\n",
    "my_list = [1,2,3,4,5]\n",
    "my_tuple = tuple(my_list)\n",
    "\n",
    "print(my_tuple)\n"
   ]
  },
  {
   "cell_type": "code",
   "execution_count": 12,
   "id": "89861190-bb84-4318-b8ec-edc2af985eca",
   "metadata": {},
   "outputs": [
    {
     "name": "stdout",
     "output_type": "stream",
     "text": [
      "[1, 2, 3, 4, 5]\n"
     ]
    }
   ],
   "source": [
    "#Covert a tuple to a list.\n",
    "\n",
    "my_tuple = (1,2,3,4,5)\n",
    "my_list= list(my_tuple)\n",
    "\n",
    "print(my_list)\n",
    "\n"
   ]
  },
  {
   "cell_type": "code",
   "execution_count": 13,
   "id": "f299d629-019c-4abd-ac96-1ab7639ac41e",
   "metadata": {},
   "outputs": [
    {
     "name": "stdout",
     "output_type": "stream",
     "text": [
      "0b1010\n"
     ]
    }
   ],
   "source": [
    "#Convert a decimal number to binary.\n",
    "\n",
    "decimal_number = 10\n",
    "binary_representation = bin(decimal_number)\n",
    "print(binary_representation)\n",
    "\n",
    "\n"
   ]
  },
  {
   "cell_type": "code",
   "execution_count": 14,
   "id": "47071aa1-2efe-48f8-ba48-b942360f3dfa",
   "metadata": {},
   "outputs": [
    {
     "name": "stdout",
     "output_type": "stream",
     "text": [
      "True\n"
     ]
    }
   ],
   "source": [
    "#Covert a non-zero number to boolean\n",
    "\n",
    "number = 5\n",
    "boolean_value = bool(number)\n",
    "print(boolean_value)\n",
    "\n",
    "\n"
   ]
  },
  {
   "cell_type": "code",
   "execution_count": null,
   "id": "0b669673-6cba-408d-91a1-5545804b8e49",
   "metadata": {},
   "outputs": [],
   "source": []
  }
 ],
 "metadata": {
  "kernelspec": {
   "display_name": "Python 3 (ipykernel)",
   "language": "python",
   "name": "python3"
  },
  "language_info": {
   "codemirror_mode": {
    "name": "ipython",
    "version": 3
   },
   "file_extension": ".py",
   "mimetype": "text/x-python",
   "name": "python",
   "nbconvert_exporter": "python",
   "pygments_lexer": "ipython3",
   "version": "3.10.8"
  }
 },
 "nbformat": 4,
 "nbformat_minor": 5
}
